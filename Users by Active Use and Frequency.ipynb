{
 "cells": [
  {
   "cell_type": "markdown",
   "metadata": {},
   "source": [
    "# Users by Active Use and Frequency of the FCC Gitter Help room (Jan-Jul 2015)"
   ]
  },
  {
   "cell_type": "markdown",
   "metadata": {},
   "source": [
    "Here we analyse (quick and dirty) the number of people who were active and from active those who used frequently the chatroom.\n",
    "Definitions:\n",
    "* activity: sending at least one message at any day\n",
    "* active: no more than 20 days since the last message to the last day of measuring (2015-08-16)\n",
    "* no-active: 20 or more days since the last message to the last day of measuring (2015-08-16)\n",
    "* frequent: sent more than 5 messages between the date of the first message and the date of the last message"
   ]
  },
  {
   "cell_type": "code",
   "execution_count": null,
   "metadata": {
    "collapsed": true
   },
   "outputs": [],
   "source": [
    "import os, sys\n",
    "from datetime import datetime, date, timedelta\n",
    "\n",
    "directory = \"/your/path/to/the/data/\"\n",
    "raw = pickle.load(open(directory+\"help.pkl\", \"rb\"))\n",
    "d = {}\n",
    "for elem in raw:\n",
    "    if elem['fromUser']['username'] not in list(d.keys()):\n",
    "        d[elem['fromUser']['username']] = set()\n",
    "    d[elem['fromUser']['username']].add(date(int(elem['sent'][:4]),int(elem['sent'][5:7]),int(elem['sent'][8:10])))\n",
    "\n",
    "dd = {}\n",
    "max_partics = 0\n",
    "for user in list(d.keys()):\n",
    "    partics = list(sorted(d[user]))\n",
    "    partics_len = len(partics)\n",
    "    if partics_len > max_partics:\n",
    "        max_partics = partics_len\n",
    "    if user not in list(dd.keys()):\n",
    "        dd[user] = {'stack':[],'againsttoday':[], 'partic_len': 0, 'activity':'', 'startdate':'', 'enddate': '', 'aver':0, 'status':''}\n",
    "    dd[user]['partic_len'] = partics_len\n",
    "    dd[user]['startdate'] = partics[0]\n",
    "    dd[user]['enddate'] = partics[-1]\n",
    "    if date(2015,8,20) - dd[user]['enddate'] > timedelta(days = 20):\n",
    "        dd[user]['status'] = 'no-active'\n",
    "    else:\n",
    "        dd[user]['status'] = 'active'\n",
    "    if partics_len < 6:\n",
    "        dd[user]['activity'] = 'poor'\n",
    "    else:\n",
    "        dd[user]['activity'] = 'okey'\n",
    "    for i,k in enumerate(partics):\n",
    "        dd[user]['againsttoday'].append(date.today()-k)\n",
    "        if partics_len == 1:\n",
    "            dd[user]['stack'] = 1\n",
    "            dd[user]['aver'] = 1\n",
    "            break\n",
    "        if i < partics_len-1:\n",
    "            dd[user]['stack'].append(partics[i+1]-k)\n",
    "    if partics_len > 1:\n",
    "        dd[user]['aver'] = timedelta(days = partics_len)/(dd[user]['enddate'] - dd[user]['startdate'])\n"
   ]
  }
 ],
 "metadata": {
  "kernelspec": {
   "display_name": "Python 3",
   "language": "python",
   "name": "python3"
  },
  "language_info": {
   "codemirror_mode": {
    "name": "ipython",
    "version": 3
   },
   "file_extension": ".py",
   "mimetype": "text/x-python",
   "name": "python",
   "nbconvert_exporter": "python",
   "pygments_lexer": "ipython3",
   "version": "3.4.2"
  }
 },
 "nbformat": 4,
 "nbformat_minor": 0
}
