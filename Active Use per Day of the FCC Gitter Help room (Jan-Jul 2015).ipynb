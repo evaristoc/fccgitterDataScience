{
 "cells": [
  {
   "cell_type": "markdown",
   "metadata": {},
   "source": [
    "# Active Use per Day of the FCC Gitter Help room (Jan-Jul 2015)"
   ]
  },
  {
   "cell_type": "markdown",
   "metadata": {},
   "source": [
    "We analysed (quick and dirty) the counts of all messages in the room per day time (GMT)."
   ]
  },
  {
   "cell_type": "code",
   "execution_count": 1,
   "metadata": {
    "collapsed": false
   },
   "outputs": [
    {
     "name": "stdout",
     "output_type": "stream",
     "text": [
      "Populating the interactive namespace from numpy and matplotlib\n"
     ]
    }
   ],
   "source": [
    "%pylab inline"
   ]
  },
  {
   "cell_type": "markdown",
   "metadata": {},
   "source": [
    "This file include:\n",
    "* Data preparation to extract the time variable\n",
    "* Plotting"
   ]
  },
  {
   "cell_type": "code",
   "execution_count": 2,
   "metadata": {
    "collapsed": true
   },
   "outputs": [],
   "source": [
    "import os, sys\n",
    "from datetime import datetime\n",
    "import pickle\n",
    "import matplotlib.pyplot as plt"
   ]
  },
  {
   "cell_type": "markdown",
   "metadata": {},
   "source": [
    "### Data Preparation"
   ]
  },
  {
   "cell_type": "code",
   "execution_count": 3,
   "metadata": {
    "collapsed": true
   },
   "outputs": [],
   "source": [
    "directory = \"/your/path/to/data\"\n",
    "raw = pickle.load(open(directory+\"help.pkl\", \"rb\"))\n",
    "d = {}\n",
    "for elem in raw:\n",
    "    #print(elem)\n",
    "    if elem['sent'][:10] not in list(d.keys()):\n",
    "        d[elem['sent'][:10]] = {}\n",
    "    if elem['sent'][11:13] not in list(d[elem['sent'][:10]].keys()):\n",
    "        d[elem['sent'][:10]][elem['sent'][11:13]] = 0\n",
    "    d[elem['sent'][:10]][elem['sent'][11:13]] += 1"
   ]
  },
  {
   "cell_type": "markdown",
   "metadata": {},
   "source": [
    "### Plotting "
   ]
  },
  {
   "cell_type": "code",
   "execution_count": 4,
   "metadata": {
    "collapsed": false
   },
   "outputs": [
    {
     "data": {
      "image/png": "[encoded data removed]",
      "text/plain": [
       "<matplotlib.figure.Figure at 0x7f913d77bb38>"
      ]
     },
     "metadata": {},
     "output_type": "display_data"
    }
   ],
   "source": [
    "y_t = [0]*24\n",
    "x_t = ['00', '01', '02', '03', '04', '05', '06', '07', '08', '09', '10', '11', '12', '13', '14', '15', '16', '17', '18', '19', '20', '21', '22', '23']\n",
    "\n",
    "for datum in d:\n",
    "    #print(datum)\n",
    "    for ind, tijd in enumerate(x_t):\n",
    "        if tijd in list(d[datum].keys()):\n",
    "            y_t[ind] += d[datum][tijd]\n",
    "\n",
    "width = .35\n",
    "plt.bar([x+.35 for x in range(24)], y_t, width)\n",
    "plt.ylabel('messages (sub-total)')\n",
    "plt.xlabel('day time (hour)')\n",
    "plt.xticks([x+.55 for x in range(24)], x_t, fontsize = 9)\n",
    "plt.tick_params(\n",
    "axis='x',          # changes apply to the x-axis\n",
    "which='both',      # both major and minor ticks are affected\n",
    "bottom='off',      # ticks along the bottom edge are off\n",
    "top='off',         # ticks along the top edge are off\n",
    "labelbottom='on')\n",
    "plt.title('FCC Help Room: total messages per daytime (Jan-Jul 15)')\n",
    "plt.show()"
   ]
  },
  {
   "cell_type": "markdown",
   "metadata": {},
   "source": [
    "The results suggest that there is a time of the day where the activity is higher, with a peak at 20:00 GMT. This is also a suggestion of the broad geographical origin of the members of the group, although it is not conclusive."
   ]
  }
 ],
 "metadata": {
  "kernelspec": {
   "display_name": "Python 3",
   "language": "python",
   "name": "python3"
  },
  "language_info": {
   "codemirror_mode": {
    "name": "ipython",
    "version": 3
   },
   "file_extension": ".py",
   "mimetype": "text/x-python",
   "name": "python",
   "nbconvert_exporter": "python",
   "pygments_lexer": "ipython3",
   "version": "3.4.2"
  }
 },
 "nbformat": 4,
 "nbformat_minor": 0
}
