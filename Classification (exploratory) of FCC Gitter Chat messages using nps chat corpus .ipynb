{
 "cells": [
  {
   "cell_type": "markdown",
   "metadata": {},
   "source": [
    "# Small Test using NPS Chat for Dialogue Act Classification"
   ]
  },
  {
   "cell_type": "markdown",
   "metadata": {},
   "source": [
    "I used a simple, quick and dirty analysis for classification. Most of the techniques are as suggested in the nltk website documentation. Used treebank for sentence segmentation."
   ]
  },
  {
   "cell_type": "code",
   "execution_count": 1,
   "metadata": {
    "collapsed": true
   },
   "outputs": [],
   "source": [
    "# import os, sys\n",
    "import nltk\n",
    "from nltk.corpus import nps_chat as nps_chat\n",
    "from nltk.corpus import treebank_raw as treebank\n",
    "\n",
    "#tar_sentence = \"\"\"Hello everyone, I'm trying to solve the seek and destroy bonfire but I'm trying to understand how to fix some logic in my code.\"\"\"\n",
    "\n",
    "def tokens_and_boundaries(dataset):\n",
    "    tokens = []\n",
    "    boundaries = set()\n",
    "    offset = 0\n",
    "    for sent in dataset:\n",
    "        #print(sent)\n",
    "        tokens.extend(sent)\n",
    "        offset += len(sent)\n",
    "        boundaries.add(offset-1)\n",
    "    return tokens,boundaries\n",
    "\n",
    "\n",
    "def punct_features(tokens, i):\n",
    "    return {'next-word-capitalized': tokens[i+1][0].isupper(),\n",
    "            'prev-word': tokens[i-1].lower(),\n",
    "            'punct': tokens[i],\n",
    "            'prev-word-is-one-char': len(tokens[i-1]) == 1}\n",
    "\n",
    "def featuredsets(dataset):\n",
    "    tokens, boundaries = tokens_and_boundaries(dataset)\n",
    "    boundaries = sorted(list(boundaries))\n",
    "    return [(punct_features(tokens, i), i in boundaries) for i in range(1, len(tokens)-1) if tokens[i] in '.?!']\n",
    "\n",
    "def segment_sentences(words):\n",
    "    start = 0\n",
    "    sents = []\n",
    "    for i, word in enumerate(words):\n",
    "        #print(i, word)\n",
    "        if word == '...':\n",
    "            word = '.'\n",
    "        if word in '.?!' and classifier_segsen.classify(punct_features(words, i)) == True: #1) if a punctuation mark AND words classified as TRUE \n",
    "            sents.append(words[start:i+1])                                          #2) add to sents all word between the start of a sentence and the end\n",
    "            start = i+1                                                             #3) move to next sentence\n",
    "    if start < len(words):                                                          #4) if start is still less than the total paragraph..\n",
    "        sents.append(words[start:])                                                 #5) add all (???)\n",
    "    return sents   \n",
    "\n",
    "\n",
    "def dialogue_act_features(sen, tok = False):\n",
    "    features = {}\n",
    "    if tok == False:\n",
    "        for word in nltk.word_tokenize(sen):\n",
    "            features['contains({})'.format(word.lower())] = True\n",
    "    else:\n",
    "        for word in sen:\n",
    "            features['contains({})'.format(word.lower())] = True\n",
    "    return features"
   ]
  },
  {
   "cell_type": "markdown",
   "metadata": {},
   "source": [
    "After defining the functions, the classifiers are trained using NaiveBayesClassifier."
   ]
  },
  {
   "cell_type": "code",
   "execution_count": 2,
   "metadata": {
    "collapsed": true
   },
   "outputs": [],
   "source": [
    "train_sentsegset = treebank.sents()\n",
    "train_featsentsegset = featuredsets(train_sentsegset)\n",
    "#print(train_featsentsegset[:10])\n",
    "classifier_segsen = nltk.NaiveBayesClassifier.train(train_featsentsegset)\n",
    "\n",
    "#train_dialactset = nps_chat.xml_posts()[:10000]\n",
    "train_dialactset = nps_chat.xml_posts()\n",
    "train_featdialactset = [(dialogue_act_features(train_sen.text), train_sen.get('class')) for train_sen in train_dialactset]\n",
    "classifier_dialact = nltk.NaiveBayesClassifier.train(train_featdialactset)\n"
   ]
  },
  {
   "cell_type": "markdown",
   "metadata": {},
   "source": [
    "Some messages were selected. The selection was not totally random as the idea was to evaluate the results of the classification."
   ]
  },
  {
   "cell_type": "code",
   "execution_count": 3,
   "metadata": {
    "collapsed": true
   },
   "outputs": [],
   "source": [
    "tar_sentences = [\"\"\"The content part is transcribing other peoples work and putting it on the website. The html, css, and javascript is either fixing glitches with the site or adding a tweak to it. It is estimated that it is going to be approximately 16 hours a week of work. Paid position, don't know how much. Please feel free to reach out to the e-mail address or call to get further information. END\"\"\",\n",
    "               \"\"\"@sb Yes, as I said I do not know if comparing results would be really possible but since I have little to no experience with JS I was hoping that someone might have some idea on how to do it properly. END\"\"\",\n",
    "               \"\"\"@sb Seek & Destroy is one of the more difficult bonfires... did you try Bonfire-seek-and-destroy hint? END\"\"\",\n",
    "               \"\"\"can someone help me with this...how do i pick subindex of an array? END\"\"\",\n",
    "               \"\"\"Oh, I'm sorry @sb, you probably meant I should go the the HelpBonfires chat room. Thanks! END\"\"\",\n",
    "               \"\"\"Hi everyone. Hope you're having fun coding. It's been a few days I'm trying to finish the 'Seek & Destroy' bonfire but I don't manage to do it. I know the solution should be simple, but I can't get it to work. Has anyone finished it and would be kind enough to give me a tip? END\"\"\",\n",
    "               \"\"\"@sb Does the webpage have to look the same? END\"\"\",\n",
    "               \"\"\"i'm also trying to set env variables using package config. is there a particular way of doing that with heroku beside heroku set? END\"\"\",\n",
    "               \"\"\"hey, someone did bonfire-convert-html entities? END\"\"\",\n",
    "               \"\"\"This could does not generate any error but does not move to the next exercise too. END\"\"\",\n",
    "               \"\"\"@sb It is because your location was not correctly detected by http://ip-api.com/. Could you open this link and verify the City field in a result table? END\"\"\",\n",
    "               \"\"\"@sb That should be good sign. You should be challenged while learning new stuff. If you need help with specific bonfire post your code here and ask question. END\"\"\",\n",
    "               \"\"\"usually the code editor , codepen / freecodecamp editor, displays a notification to the left of any line with bad code. I imagine the line with meter+= showed some red or yellow indicator and there's also the browser's console , which often also shows some kind of information when it can't make sense of your code. END\"\"\",\n",
    "               \"\"\"without putting something in the div or what razetime wrote there is nothing to apply the background color to. END\"\"\",\n",
    "               ]"
   ]
  },
  {
   "cell_type": "markdown",
   "metadata": {},
   "source": [
    "Following the classification procedure."
   ]
  },
  {
   "cell_type": "code",
   "execution_count": 4,
   "metadata": {
    "collapsed": false
   },
   "outputs": [
    {
     "name": "stdout",
     "output_type": "stream",
     "text": [
      "The content part is transcribing other peoples work and putting it on the website . -------->> nAnswer\n",
      "The html , css , and javascript is either fixing glitches with the site or adding a tweak to it . -------->> Continuer\n",
      "It is estimated that it is going to be approximately 16 hours a week of work . -------->> Statement\n",
      "Paid position , do n't know how much . -------->> Reject\n",
      "Please feel free to reach out to the e-mail address or call to get further information . -------->> Clarify\n",
      "@ sb Yes , as I said I do not know if comparing results would be really possible but since I have little to no experience with JS I was hoping that someone might have some idea on how to do it properly . -------->> nAnswer\n",
      "@ sb Seek & Destroy is one of the more difficult bonfires . -------->> Statement\n",
      "Did you try Bonfire-seek-and-destroy hint ? -------->> ynQuestion\n",
      "can someone help me with this . -------->> Statement\n",
      "How do i pick subindex of an array ? -------->> whQuestion\n",
      "Oh , I 'm sorry @ sb , you probably meant I should go the the HelpBonfires chat room . -------->> Clarify\n",
      "Thanks ! -------->> Emphasis\n",
      "Hi everyone . -------->> Greet\n",
      "Hope you 're having fun coding . -------->> Statement\n",
      "It 's been a few days I 'm trying to finish the 'Seek & Destroy ' bonfire but I do n't manage to do it . -------->> Clarify\n",
      "I know the solution should be simple , but I ca n't get it to work . -------->> Reject\n",
      "Has anyone finished it and would be kind enough to give me a tip ? -------->> ynQuestion\n",
      "@ sb Does the webpage have to look the same ? -------->> whQuestion\n",
      "i 'm also trying to set env variables using package config . is there a particular way of doing that with heroku beside heroku set ? -------->> nAnswer\n",
      "hey , someone did bonfire-convert-html entities ? -------->> ynQuestion\n",
      "This could does not generate any error but does not move to the next exercise too . -------->> nAnswer\n",
      "@ sb It is because your location was not correctly detected by http : //ip-api.com/ . -------->> nAnswer\n",
      "Could you open this link and verify the City field in a result table ? -------->> nAnswer\n",
      "@ sb That should be good sign . -------->> Accept\n",
      "You should be challenged while learning new stuff . -------->> Statement\n",
      "If you need help with specific bonfire post your code here and ask question . -------->> ynQuestion\n",
      "usually the code editor , codepen / freecodecamp editor , displays a notification to the left of any line with bad code . -------->> nAnswer\n",
      "I imagine the line with meter+= showed some red or yellow indicator and there 's also the browser 's console , which often also shows some kind of information when it ca n't make sense of your code . -------->> Clarify\n",
      "without putting something in the div or what razetime wrote there is nothing to apply the background color to . -------->> Continuer\n"
     ]
    }
   ],
   "source": [
    "for tar_sentence in tar_sentences:\n",
    "    tar_sentence_tok = nltk.word_tokenize(tar_sentence)\n",
    "    for iw, w in enumerate(tar_sentence_tok):\n",
    "        if w == '...' and iw < (len(tar_sentence_tok)-2):\n",
    "            tar_sentence_tok[iw] = '.'\n",
    "            tar_sentence_tok[iw+1] = tar_sentence_tok[iw+1].title()\n",
    "    #print(tar_sentence_tok)\n",
    "    \n",
    "    #train_tokens, train_boundaries = tokens_and_boundaries(train_sentsegset)\n",
    "    #print(train_sentsegset[0], train_tokens[:10],list(train_boundaries)[:10])\n",
    "\n",
    "    tar_tokens, tar_boundaries = tokens_and_boundaries(tar_sentence_tok)\n",
    "    #print(tar_tokens, sorted(list(tar_boundaries)))\n",
    "\n",
    "\n",
    "    #To use this classifier to perform sentence segmentation, \n",
    "    #we simply check each punctuation mark to see whether it's labeled as a boundary; \n",
    "    #and divide the list of words at the boundary marks.\n",
    "    \n",
    "                                                                     #6) return a list of all sentences\n",
    "    \n",
    "    #print(segment_sentences(tar_sentence_tok))\n",
    "\n",
    "    #for sen in segment_sentences(tar_sentence_tok):\n",
    "    #    print(sen)\n",
    "\n",
    "\n",
    "    for sen in segment_sentences(tar_sentence_tok):\n",
    "        if sen != ['END']:\n",
    "            tar_featuredsen = dialogue_act_features(sen, True)\n",
    "            #print(train_featdialactset[0], tar_featuredsen)\n",
    "            print(' '.join(sen),'-------->>',classifier_dialact.classify(tar_featuredsen))"
   ]
  }
 ],
 "metadata": {
  "kernelspec": {
   "display_name": "Python 3",
   "language": "python",
   "name": "python3"
  },
  "language_info": {
   "codemirror_mode": {
    "name": "ipython",
    "version": 3
   },
   "file_extension": ".py",
   "mimetype": "text/x-python",
   "name": "python",
   "nbconvert_exporter": "python",
   "pygments_lexer": "ipython3",
   "version": "3.4.2"
  }
 },
 "nbformat": 4,
 "nbformat_minor": 0
}
